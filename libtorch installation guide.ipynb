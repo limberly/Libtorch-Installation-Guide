{
 "cells": [
  {
   "cell_type": "markdown",
   "metadata": {},
   "source": [
    "# Installing libtorch on Windows"
   ]
  },
  {
   "cell_type": "markdown",
   "metadata": {},
   "source": [
    "##  Requirements"
   ]
  },
  {
   "cell_type": "markdown",
   "metadata": {},
   "source": [
    "- Visual Studio 2017 or 2019\n",
    "- Install cmake when installing Visual Studio"
   ]
  },
  {
   "cell_type": "markdown",
   "metadata": {},
   "source": [
    "Download GPU enabled version of libtorch from pytorch website"
   ]
  },
  {
   "cell_type": "markdown",
   "metadata": {},
   "source": [
    "1. Make a folder named \"example-app\"\n",
    "2. Make a text file named \"CMakeList.txt\" in \"example-app\" folder. The content of the text file is pre-defined on libtorch installation tutorial page\n",
    "3. Make a cpp file called \"example-app.cpp\" in \"example-app\" folder.\n",
    "4. Make a folder named \"build\" following the command line instructions on libtorch installation tutorial page.\n",
    "5. Make sure your Visual Studio is running x64 version."
   ]
  }
 ],
 "metadata": {
  "kernelspec": {
   "display_name": "Python 3",
   "language": "python",
   "name": "python3"
  },
  "language_info": {
   "codemirror_mode": {
    "name": "ipython",
    "version": 3
   },
   "file_extension": ".py",
   "mimetype": "text/x-python",
   "name": "python",
   "nbconvert_exporter": "python",
   "pygments_lexer": "ipython3",
   "version": "3.7.6"
  }
 },
 "nbformat": 4,
 "nbformat_minor": 4
}
